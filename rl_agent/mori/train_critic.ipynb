{
 "cells": [
  {
   "cell_type": "markdown",
   "id": "4843f62f",
   "metadata": {},
   "source": [
    "# PPOのCriticネットワークを事前学習する"
   ]
  },
  {
   "cell_type": "code",
   "execution_count": 5,
   "id": "7c4ef965",
   "metadata": {},
   "outputs": [
    {
     "name": "stdout",
     "output_type": "stream",
     "text": [
      "Using device: mps\n"
     ]
    }
   ],
   "source": [
    "import os\n",
    "import sys\n",
    "from pathlib import Path\n",
    "from typing import List, Optional, Tuple\n",
    "import random\n",
    "from dataclasses import dataclass\n",
    "import copy\n",
    "\n",
    "import torch\n",
    "if torch.cuda.is_available():\n",
    "    from torch.cuda.amp import autocast, GradScaler\n",
    "else:\n",
    "    from torch.amp import autocast, GradScaler\n",
    "import torch.nn as nn\n",
    "import torch.optim as optim\n",
    "import torch.nn.functional as F\n",
    "from torch.utils.data import Dataset, DataLoader\n",
    "import torchvision.transforms as T\n",
    "import numpy as np\n",
    "from tqdm.notebook import tqdm\n",
    "import matplotlib.pyplot as plt\n",
    "from matplotlib.colors import BoundaryNorm, ListedColormap\n",
    "from torch.optim.lr_scheduler import LinearLR, CosineAnnealingLR, SequentialLR\n",
    "import torchinfo\n",
    "import optuna\n",
    "from PIL import Image\n",
    "\n",
    "from contextlib import nullcontext\n",
    "\n",
    "project_root = Path.cwd().parent\n",
    "sys.path.append(str(project_root))\n",
    "\n",
    "# omnicampus環境との違い\n",
    "device = torch.device(\"mps\" if torch.backends.mps.is_available() else \"cuda\" if torch.cuda.is_available() else \"cpu\")\n",
    "print(f\"Using device: {device}\")\n",
    "if device.type == \"cuda\":\n",
    "    BOARD_TRAIN_DIR = os.path.join(\"data\", \"egaroucid\")\n",
    "else:\n",
    "    BOARD_TRAIN_DIR = os.path.join(project_root, \"data\", \"egaroucid\")\n"
   ]
  },
  {
   "cell_type": "markdown",
   "id": "6b1dc445",
   "metadata": {},
   "source": [
    "## データセットの作成"
   ]
  },
  {
   "cell_type": "code",
   "execution_count": 6,
   "id": "b382ccc1",
   "metadata": {},
   "outputs": [],
   "source": [
    "def plot_board(board: np.ndarray, score: int):\n",
    "    \"\"\"\n",
    "    1は青、-1は赤, 0は黒\n",
    "    \"\"\"\n",
    "    cmap = ListedColormap([\"#d62728\", \"#2f2f2f\", \"#1f77b4\"])  # -1, 0, 1\n",
    "    norm = BoundaryNorm([-1.5, -0.5, 0.5, 1.5], cmap.N)\n",
    "\n",
    "    im = plt.imshow(board, cmap=cmap, norm=norm)\n",
    "    cbar = plt.colorbar(im, ticks=[-1, 0, 1])\n",
    "    cbar.ax.set_yticklabels([\"-1\", \"0\", \"1\"])\n",
    "\n",
    "    plt.title(f\"Board, score: {score}\")\n",
    "    plt.show()"
   ]
  },
  {
   "cell_type": "code",
   "execution_count": 7,
   "id": "f41a3beb",
   "metadata": {},
   "outputs": [
    {
     "name": "stdout",
     "output_type": "stream",
     "text": [
      "(100000, 8, 8) (100000,)\n"
     ]
    }
   ],
   "source": [
    "board_npy = np.load(os.path.join(BOARD_TRAIN_DIR, \"boards.npy\"))\n",
    "score_npy = np.load(os.path.join(BOARD_TRAIN_DIR, \"scores.npy\"))\n",
    "print(board_npy.shape, score_npy.shape)"
   ]
  },
  {
   "cell_type": "code",
   "execution_count": null,
   "id": "3405e0b1",
   "metadata": {},
   "outputs": [
    {
     "name": "stdout",
     "output_type": "stream",
     "text": [
      "(30000, 8, 8) (30000,)\n"
     ]
    }
   ],
   "source": [
    "# 1万個のみにランダムに選択\n",
    "seed = 42\n",
    "np.random.seed(seed)\n",
    "rand_idx = np.random.choice(len(board_npy), size=10000, replace=False)\n",
    "board_npy = board_npy[rand_idx]\n",
    "score_npy = score_npy[rand_idx]\n",
    "print(board_npy.shape, score_npy.shape)"
   ]
  },
  {
   "cell_type": "code",
   "execution_count": 9,
   "id": "50a7f6bc",
   "metadata": {},
   "outputs": [
    {
     "data": {
      "image/png": "[encoded data removed]",
      "text/plain": [
       "<Figure size 640x480 with 2 Axes>"
      ]
     },
     "metadata": {},
     "output_type": "display_data"
    }
   ],
   "source": [
    "rand_idx = random.randint(0, len(board_npy) - 1)\n",
    "plot_board(board_npy[rand_idx], score_npy[rand_idx])"
   ]
  },
  {
   "cell_type": "code",
   "execution_count": 10,
   "id": "da75a768",
   "metadata": {},
   "outputs": [],
   "source": [
    "class OthelloDataset(Dataset):\n",
    "    def __init__(self, boards: np.ndarray, scores: np.ndarray, transform: Optional[T.Compose] = None) -> None:\n",
    "        super().__init__()\n",
    "        self.boards = boards\n",
    "        self.scores = scores\n",
    "        self.transform = transform\n",
    "\n",
    "    def __len__(self) -> int:\n",
    "        return len(self.boards)\n",
    "\n",
    "    def __getitem__(self, idx: int) -> Tuple[torch.Tensor, torch.Tensor]:\n",
    "        board = torch.from_numpy(self.boards[idx]).unsqueeze(0)\n",
    "        if self.transform:\n",
    "            board = self.transform(board)\n",
    "        score = torch.tensor(self.scores[idx], dtype=torch.float32)\n",
    "        return board, score"
   ]
  },
  {
   "cell_type": "code",
   "execution_count": 11,
   "id": "b939102c",
   "metadata": {},
   "outputs": [],
   "source": [
    "# scoreは、-64~64の範囲なので、-1~1の範囲に正規化する\n",
    "score_npy = score_npy / 64.0\n",
    "\n",
    "# board_npyとscore_npyをtrain, valid, testに分割して、それぞれのデータセットを作成する\n",
    "# 70%をtrain, 15%をvalid, 15%をtestとする\n",
    "train_boards = board_npy[: int(len(board_npy) * 0.7)]\n",
    "train_scores = score_npy[: int(len(score_npy) * 0.7)]\n",
    "val_boards = board_npy[int(len(board_npy) * 0.7) : int(len(board_npy) * 0.85)]\n",
    "val_scores = score_npy[int(len(score_npy) * 0.7) : int(len(score_npy) * 0.85)]\n",
    "test_boards = board_npy[int(len(board_npy) * 0.85) :]\n",
    "test_scores = score_npy[int(len(score_npy) * 0.85) :]\n",
    "\n",
    "# データ拡張として、上下左右反転を追加する\n",
    "transform = T.Compose([\n",
    "    T.RandomVerticalFlip(p=0.5),\n",
    "    T.RandomHorizontalFlip(p=0.5),\n",
    "])\n",
    "\n",
    "# データセットを作成する\n",
    "train_dataset = OthelloDataset(train_boards, train_scores, transform)\n",
    "val_dataset = OthelloDataset(val_boards, val_scores)\n",
    "test_dataset = OthelloDataset(test_boards, test_scores)"
   ]
  },
  {
   "cell_type": "code",
   "execution_count": 12,
   "id": "3252a95b",
   "metadata": {},
   "outputs": [
    {
     "name": "stdout",
     "output_type": "stream",
     "text": [
      "(tensor([[[ 0,  0,  0,  0,  0,  0,  0,  0],\n",
      "         [ 0,  0,  0,  0,  0,  0,  0,  0],\n",
      "         [ 0,  0,  0, -1,  0, -1,  0,  0],\n",
      "         [ 0,  1,  1,  1, -1, -1,  0,  0],\n",
      "         [ 1,  1,  1,  1, -1, -1,  0,  0],\n",
      "         [ 1,  1,  1,  1, -1, -1,  0,  0],\n",
      "         [ 0,  0,  1,  1,  0,  0,  0,  0],\n",
      "         [ 0,  0,  0,  0,  0,  0,  0,  0]]]), tensor(-0.1250))\n"
     ]
    }
   ],
   "source": [
    "print(train_dataset[0])"
   ]
  },
  {
   "cell_type": "code",
   "execution_count": 13,
   "id": "bfb1c2ed",
   "metadata": {},
   "outputs": [
    {
     "name": "stdout",
     "output_type": "stream",
     "text": [
      "-0.125\n"
     ]
    },
    {
     "data": {
      "image/png": "[encoded data removed]",
      "text/plain": [
       "<Figure size 640x480 with 2 Axes>"
      ]
     },
     "metadata": {},
     "output_type": "display_data"
    }
   ],
   "source": [
    "print(train_scores[0])\n",
    "\n",
    "board_np = train_dataset[0][0].squeeze().numpy()\n",
    "score_np = train_dataset[0][1].numpy()\n",
    "plot_board(board_np, score_np)"
   ]
  },
  {
   "cell_type": "markdown",
   "id": "34eae324",
   "metadata": {},
   "source": [
    "## Criticアーキテクチャの定義"
   ]
  },
  {
   "cell_type": "code",
   "execution_count": 14,
   "id": "d5c905c9",
   "metadata": {},
   "outputs": [],
   "source": [
    "class ResBlock(nn.Module):\n",
    "    def __init__(self, ch: int, bn_eps: float = 1e-5, zero_init: bool = True):\n",
    "        super().__init__()\n",
    "        self.conv1 = nn.Conv2d(ch, ch, 3, padding=1, bias=False)\n",
    "        self.bn1   = nn.BatchNorm2d(ch, eps=bn_eps)\n",
    "        self.conv2 = nn.Conv2d(ch, ch, 3, padding=1, bias=False)\n",
    "        self.bn2   = nn.BatchNorm2d(ch, eps=bn_eps)\n",
    "        if zero_init:\n",
    "            # 出力を初期は恒等写像に近づけて安定化\n",
    "            nn.init.zeros_(self.bn2.weight)\n",
    "\n",
    "    def forward(self, x: torch.Tensor) -> torch.Tensor:\n",
    "        h = F.relu(self.bn1(self.conv1(x)))\n",
    "        h = self.bn2(self.conv2(h))\n",
    "        return F.relu(x + h)\n",
    "\n",
    "class CriticNet(nn.Module):\n",
    "    def __init__(\n",
    "        self,\n",
    "        in_ch: int = 2,\n",
    "        width: int = 32,\n",
    "        num_res_blocks: int = 3,\n",
    "        bn_eps: float = 1e-5,\n",
    "        head_hidden_size: int = 32,\n",
    "        use_gap: bool = True,\n",
    "        norm_head: str = \"ln\",\n",
    "    ):\n",
    "        super().__init__()\n",
    "        self.stem = nn.Sequential(\n",
    "            nn.Conv2d(in_ch, width, 3, padding=1, bias=False),\n",
    "            nn.GroupNorm(1, width, eps=bn_eps),\n",
    "            nn.ReLU(inplace=True),\n",
    "        )\n",
    "        self.res_blocks = nn.Sequential(\n",
    "            *[ResBlock(width, bn_eps=bn_eps, zero_init=True) for _ in range(num_res_blocks)]\n",
    "        )\n",
    "\n",
    "        # value head: 1x1 conv → (norm) → ReLU\n",
    "        self.value_conv = nn.Conv2d(width, 1, kernel_size=1, bias=False)\n",
    "\n",
    "        if norm_head == \"bn\":\n",
    "            self.value_norm = nn.GroupNorm(1, 1, eps=bn_eps)\n",
    "        elif norm_head == \"ln\":\n",
    "            # LayerNorm over (C,H,W) = (1,8,8) -> normalized_shape=(1,8,8)\n",
    "            self.value_norm = nn.LayerNorm((1, 8, 8))\n",
    "        elif norm_head == \"gn\":\n",
    "            self.value_norm = nn.GroupNorm(1, 1)  # 1 group = LayerNorm的\n",
    "        else:\n",
    "            self.value_norm = nn.Identity()\n",
    "\n",
    "        self.use_gap = use_gap\n",
    "        if use_gap:\n",
    "            in_fc = 1  # GAPで(1,)に\n",
    "        else:\n",
    "            in_fc = 8 * 8\n",
    "\n",
    "        self.value_fc1 = nn.Linear(in_fc, head_hidden_size)\n",
    "        self.value_fc2 = nn.Linear(head_hidden_size, 1)\n",
    "\n",
    "    def forward(self, x: torch.Tensor) -> torch.Tensor:\n",
    "        h = self.stem(x)\n",
    "        h = self.res_blocks(h)\n",
    "\n",
    "        h = self.value_conv(h)  # (B,1,8,8)\n",
    "        if isinstance(self.value_norm, nn.LayerNorm):\n",
    "            h = self.value_norm(h)  # 形状そのまま\n",
    "        else:\n",
    "            h = self.value_norm(h)\n",
    "        h = F.relu(h)\n",
    "\n",
    "        if self.use_gap:\n",
    "            h = h.mean(dim=(2, 3), keepdim=False)  # (B,1)\n",
    "        else:\n",
    "            h = h.view(h.size(0), -1)             # (B,64)\n",
    "\n",
    "        h = F.relu(self.value_fc1(h))\n",
    "        v = torch.tanh(self.value_fc2(h))         # [-1, 1]\n",
    "        return v  # (B,1)"
   ]
  },
  {
   "cell_type": "code",
   "execution_count": 15,
   "id": "f7422877",
   "metadata": {},
   "outputs": [
    {
     "data": {
      "text/plain": [
       "==========================================================================================\n",
       "Layer (type:depth-idx)                   Output Shape              Param #\n",
       "==========================================================================================\n",
       "CriticNet                                [4, 1]                    --\n",
       "├─Sequential: 1-1                        [4, 32, 8, 8]             --\n",
       "│    └─Conv2d: 2-1                       [4, 32, 8, 8]             576\n",
       "│    └─GroupNorm: 2-2                    [4, 32, 8, 8]             64\n",
       "│    └─ReLU: 2-3                         [4, 32, 8, 8]             --\n",
       "├─Sequential: 1-2                        [4, 32, 8, 8]             --\n",
       "│    └─ResBlock: 2-4                     [4, 32, 8, 8]             --\n",
       "│    │    └─Conv2d: 3-1                  [4, 32, 8, 8]             9,216\n",
       "│    │    └─BatchNorm2d: 3-2             [4, 32, 8, 8]             64\n",
       "│    │    └─Conv2d: 3-3                  [4, 32, 8, 8]             9,216\n",
       "│    │    └─BatchNorm2d: 3-4             [4, 32, 8, 8]             64\n",
       "│    └─ResBlock: 2-5                     [4, 32, 8, 8]             --\n",
       "│    │    └─Conv2d: 3-5                  [4, 32, 8, 8]             9,216\n",
       "│    │    └─BatchNorm2d: 3-6             [4, 32, 8, 8]             64\n",
       "│    │    └─Conv2d: 3-7                  [4, 32, 8, 8]             9,216\n",
       "│    │    └─BatchNorm2d: 3-8             [4, 32, 8, 8]             64\n",
       "│    └─ResBlock: 2-6                     [4, 32, 8, 8]             --\n",
       "│    │    └─Conv2d: 3-9                  [4, 32, 8, 8]             9,216\n",
       "│    │    └─BatchNorm2d: 3-10            [4, 32, 8, 8]             64\n",
       "│    │    └─Conv2d: 3-11                 [4, 32, 8, 8]             9,216\n",
       "│    │    └─BatchNorm2d: 3-12            [4, 32, 8, 8]             64\n",
       "├─Conv2d: 1-3                            [4, 1, 8, 8]              32\n",
       "├─LayerNorm: 1-4                         [4, 1, 8, 8]              128\n",
       "├─Linear: 1-5                            [4, 32]                   64\n",
       "├─Linear: 1-6                            [4, 1]                    33\n",
       "==========================================================================================\n",
       "Total params: 56,577\n",
       "Trainable params: 56,577\n",
       "Non-trainable params: 0\n",
       "Total mult-adds (Units.MEGABYTES): 14.31\n",
       "==========================================================================================\n",
       "Input size (MB): 0.00\n",
       "Forward/backward pass size (MB): 0.92\n",
       "Params size (MB): 0.23\n",
       "Estimated Total Size (MB): 1.15\n",
       "=========================================================================================="
      ]
     },
     "execution_count": 15,
     "metadata": {},
     "output_type": "execute_result"
    }
   ],
   "source": [
    "dummy_input = torch.randn(4, 2, 8, 8)\n",
    "torchinfo.summary(CriticNet(), input_data=dummy_input)"
   ]
  },
  {
   "cell_type": "markdown",
   "id": "be6405e2",
   "metadata": {},
   "source": [
    "## 学習"
   ]
  },
  {
   "cell_type": "code",
   "execution_count": 16,
   "id": "f7e809ae",
   "metadata": {},
   "outputs": [],
   "source": [
    "@dataclass\n",
    "class TrainingConfig:\n",
    "    \"\"\"学習設定クラス。\"\"\"\n",
    "    batch_size: int = 32\n",
    "    lr: float = 1e-3\n",
    "    weight_decay: float = 1e-5\n",
    "    num_epochs: int = 10\n",
    "    device: torch.device = (\n",
    "        torch.device(\"mps\") if torch.backends.mps.is_available()\n",
    "        else torch.device(\"cuda\") if torch.cuda.is_available()\n",
    "        else torch.device(\"cpu\")\n",
    "    )\n",
    "    warmup_epochs: int = 5\n",
    "    min_lr: float = 1e-5\n",
    "    stop_patience: int = 5\n",
    "    seed: int = 42\n",
    "\n",
    "\n",
    "class Trainer:\n",
    "    \"\"\"CUDA のときのみ混合精度を使用する学習クラス。\"\"\"\n",
    "\n",
    "    def __init__(self, trial: optuna.Trial, config: TrainingConfig, model: nn.Module, train_loader: DataLoader, val_loader: DataLoader):\n",
    "        self.trial = trial\n",
    "        self.config = config\n",
    "        self.model = model.to(self.config.device)\n",
    "        self.optimizer = torch.optim.AdamW(\n",
    "            self.model.parameters(), lr=self.config.lr, weight_decay=self.config.weight_decay\n",
    "        )\n",
    "\n",
    "        # Cosine スケジューラ設定\n",
    "        steps_per_epoch = len(train_loader)\n",
    "        total_steps = steps_per_epoch * self.config.num_epochs\n",
    "        warmup_steps = steps_per_epoch * self.config.warmup_epochs\n",
    "\n",
    "        self.warmup = LinearLR(\n",
    "            self.optimizer,\n",
    "            start_factor=self.config.min_lr / self.config.lr,\n",
    "            end_factor=1.0,\n",
    "            total_iters=warmup_steps,\n",
    "        )\n",
    "        self.cosine = CosineAnnealingLR(\n",
    "            self.optimizer,\n",
    "            T_max=max(1, total_steps - warmup_steps),\n",
    "            eta_min=self.config.min_lr,\n",
    "        )\n",
    "        self.scheduler = SequentialLR(\n",
    "            self.optimizer,\n",
    "            schedulers=[self.warmup, self.cosine],\n",
    "            milestones=[warmup_steps],\n",
    "        )\n",
    "\n",
    "        self.train_loader = train_loader\n",
    "        self.val_loader = val_loader\n",
    "        self.criterion = nn.HuberLoss()\n",
    "\n",
    "        # CUDA のときだけ AMP を使う\n",
    "        self.scaler = GradScaler()\n",
    "\n",
    "        self.best_val_loss = float(\"inf\")\n",
    "        self.best_model = None\n",
    "        self.train_loss_history = []\n",
    "        self.val_loss_history = []\n",
    "\n",
    "    def train(self) -> tuple[float, nn.Module]:\n",
    "        \"\"\"学習を実行し、最良の検証損失とモデル重みを返す。\"\"\"\n",
    "        pbar = tqdm(range(self.config.num_epochs), desc=\"Training\")\n",
    "        for epoch in pbar:\n",
    "            epoch_train_loss = 0.0\n",
    "            seen_samples = 0\n",
    "\n",
    "            self.model.train()\n",
    "            for boards, targets in self.train_loader:\n",
    "                self.optimizer.zero_grad(set_to_none=True)\n",
    "\n",
    "                boards = self._parse_2d(boards)\n",
    "                boards = boards.to(self.config.device, non_blocking=(self.config.device.type == \"cuda\"))\n",
    "                targets = targets.to(self.config.device, non_blocking=(self.config.device.type == \"cuda\"))\n",
    "\n",
    "                # 前向き + 損失は AMP（CUDA のみ）で\n",
    "                with autocast(device_type=self.config.device.type, dtype=torch.float16):\n",
    "                    outputs = self.model(boards).squeeze()\n",
    "                    loss = self.criterion(outputs, targets)\n",
    "\n",
    "                # AMP: scale -> backward -> (unscaleしてclip) -> step -> update\n",
    "                self.scaler.scale(loss).backward()\n",
    "                self.scaler.unscale_(self.optimizer)\n",
    "                torch.nn.utils.clip_grad_norm_(self.model.parameters(), 1.0)\n",
    "                self.scaler.step(self.optimizer)\n",
    "                self.scaler.update()\n",
    "\n",
    "                batch_size = boards.shape[0]\n",
    "                epoch_train_loss += loss.item() * batch_size\n",
    "                seen_samples += batch_size\n",
    "\n",
    "            self.scheduler.step()\n",
    "\n",
    "            train_loss = epoch_train_loss / max(1, seen_samples)\n",
    "            self.train_loss_history.append(train_loss)\n",
    "\n",
    "            # 検証（前向きは AMP を使っても OK）\n",
    "            self.model.eval()\n",
    "            val_losses = []\n",
    "            with torch.no_grad():\n",
    "                for boards, targets in self.val_loader:\n",
    "                    boards = self._parse_2d(boards)\n",
    "                    boards = boards.to(self.config.device, non_blocking=(self.config.device.type == \"cuda\"))\n",
    "                    targets = targets.to(self.config.device, non_blocking=(self.config.device.type == \"cuda\"))\n",
    "                    with autocast(device_type=self.config.device.type, dtype=torch.float16):\n",
    "                        outputs = self.model(boards).squeeze()\n",
    "                        loss = self.criterion(outputs, targets)\n",
    "                    val_losses.append(loss.item())\n",
    "\n",
    "            val_loss = sum(val_losses) / max(1, len(val_losses))\n",
    "            self.val_loss_history.append(val_loss)\n",
    "\n",
    "            if self.best_val_loss > val_loss:\n",
    "                self.best_val_loss = val_loss\n",
    "                self.best_model = copy.deepcopy(self.model.state_dict())\n",
    "\n",
    "            pbar.set_postfix({\"Epoch\": epoch + 1, \"Train Loss\": train_loss, \"Val Loss\": val_loss})\n",
    "\n",
    "            self.trial.report(val_loss, step=epoch)\n",
    "            if self.trial.should_prune():\n",
    "                raise optuna.TrialPruned()\n",
    "\n",
    "        return self.best_val_loss, self.best_model\n",
    "\n",
    "    def _parse_2d(self, boards: torch.Tensor) -> torch.Tensor:\n",
    "        \"\"\"入力を (B, 2, 8, 8) に変換し、2 プレーン目に符号反転した局面を格納する。\"\"\"\n",
    "        if boards.dim() == 3:\n",
    "            boards = boards.unsqueeze(1)\n",
    "        if boards.size(1) != 1:\n",
    "            raise ValueError(f\"期待する形状は (B, 1, 8, 8) ですが: {boards.shape}\")\n",
    "        boards = boards.float()\n",
    "        inverted = -boards\n",
    "        return torch.cat([boards, inverted], dim=1)\n",
    "\n",
    "    def plot_loss_history(self):\n",
    "        \"\"\"学習と検証の損失履歴をプロットする。\"\"\"\n",
    "        plt.figure(figsize=(6, 3))\n",
    "        plt.plot(self.train_loss_history, label=\"Train Loss\")\n",
    "        plt.plot(self.val_loss_history, label=\"Val Loss\")\n",
    "        plt.legend()\n",
    "        plt.xlabel(\"Epoch\")\n",
    "        plt.ylabel(\"Loss\")\n",
    "        plt.grid()\n",
    "        plt.show()\n",
    "        plt.close()"
   ]
  },
  {
   "cell_type": "code",
   "execution_count": 17,
   "id": "a550e3c1",
   "metadata": {},
   "outputs": [],
   "source": [
    "def set_seed(seed: int) -> None:\n",
    "    torch.manual_seed(seed)\n",
    "    torch.cuda.manual_seed(seed)\n",
    "    torch.backends.cudnn.deterministic = True\n",
    "    torch.backends.cudnn.benchmark = False\n",
    "    np.random.seed(seed)\n",
    "    random.seed(seed)"
   ]
  },
  {
   "cell_type": "code",
   "execution_count": 18,
   "id": "c7931273",
   "metadata": {},
   "outputs": [
    {
     "name": "stderr",
     "output_type": "stream",
     "text": [
      "[I 2025-09-28 23:39:21,485] Using an existing study with name 'critic_study' instead of creating a new one.\n"
     ]
    }
   ],
   "source": [
    "def objective(trial: optuna.Trial) -> float:\n",
    "    # 探索範囲設定\n",
    "    lr = trial.suggest_float(\"lr\", 1e-5, 1e-2, log=True)\n",
    "    weight_decay = trial.suggest_float(\"weight_decay\", 1e-6, 1e-2, log=True)\n",
    "    num_epochs = trial.suggest_int(\"num_epochs\", 10, 150)\n",
    "    batch_size = trial.suggest_int(\"batch_size\", 256, 1024)\n",
    "\n",
    "    # config\n",
    "    config = TrainingConfig(\n",
    "        lr=lr,\n",
    "        weight_decay=weight_decay,\n",
    "        num_epochs=num_epochs,\n",
    "        batch_size=batch_size,\n",
    "    )\n",
    "\n",
    "    # データローダーの作成\n",
    "    train_loader = DataLoader(\n",
    "        train_dataset,\n",
    "        batch_size=config.batch_size,\n",
    "        shuffle=True,\n",
    "        pin_memory=(config.device.type == \"cuda\"),\n",
    "    )\n",
    "    val_loader = DataLoader(\n",
    "        val_dataset,\n",
    "        batch_size=config.batch_size,\n",
    "        shuffle=False,\n",
    "        pin_memory=(config.device.type == \"cuda\"),\n",
    "    )\n",
    "\n",
    "    # モデル\n",
    "    model = CriticNet()\n",
    "\n",
    "    # 学習実行\n",
    "    trainer = Trainer(trial, config, model, train_loader, val_loader)\n",
    "    best_val_loss, _ = trainer.train()\n",
    "\n",
    "    # ロスグラフの表示\n",
    "    trainer.plot_loss_history()\n",
    "\n",
    "    return best_val_loss\n",
    "\n",
    "\n",
    "db_dir = \"dbs\"\n",
    "os.makedirs(db_dir, exist_ok=True)\n",
    "db_path = os.path.join(db_dir, \"critic.db\")\n",
    "\n",
    "pruner = optuna.pruners.MedianPruner(\n",
    "    n_startup_trials=5,\n",
    "    n_warmup_steps=20,\n",
    "    interval_steps=1,\n",
    ")\n",
    "\n",
    "study_name = \"critic_study\"\n",
    "study = optuna.create_study(\n",
    "    direction=\"minimize\",\n",
    "    pruner=pruner,\n",
    "    sampler=optuna.samplers.TPESampler(seed=42),\n",
    "    storage=f\"sqlite:///{db_path}\",\n",
    "    study_name=study_name,\n",
    "    load_if_exists=True,\n",
    ")\n",
    "study.optimize(objective, n_trials=100 - len(study.trials))"
   ]
  },
  {
   "cell_type": "code",
   "execution_count": null,
   "id": "95c3f54c",
   "metadata": {},
   "outputs": [
    {
     "name": "stdout",
     "output_type": "stream",
     "text": [
      "TrainingConfig(batch_size=260, lr=0.008591474430948673, weight_decay=2.3230459523960678e-05, num_epochs=58, device=device(type='mps'), warmup_epochs=5, min_lr=1e-05, stop_patience=5, seed=42)\n"
     ]
    },
    {
     "name": "stderr",
     "output_type": "stream",
     "text": [
      "/Users/mori/dev/othello-with-rl/rl_agent/.venv/lib/python3.12/site-packages/torch/amp/grad_scaler.py:136: UserWarning: torch.cuda.amp.GradScaler is enabled, but CUDA is not available.  Disabling.\n",
      "  warnings.warn(\n"
     ]
    },
    {
     "data": {
      "application/vnd.jupyter.widget-view+json": {
       "model_id": "c39f023c524248f6ae277de5791fea11",
       "version_major": 2,
       "version_minor": 0
      },
      "text/plain": [
       "Training:   0%|          | 0/58 [00:00<?, ?it/s]"
      ]
     },
     "metadata": {},
     "output_type": "display_data"
    }
   ],
   "source": [
    "# データローダー（ベストパラメータ）\n",
    "best_params = study.best_params\n",
    "# 事前に作成済みの train_dataset / valid_dataset / test_dataset を利用\n",
    "batch_size = int(best_params.get(\"batch_size\", 64))\n",
    "\n",
    "# MPSの場合はpin_memory=Falseが無難\n",
    "train_loader = DataLoader(\n",
    "    train_dataset,\n",
    "    batch_size=batch_size,\n",
    "    shuffle=True,\n",
    "    pin_memory=False,\n",
    ")\n",
    "val_loader = DataLoader(\n",
    "    val_dataset,\n",
    "    batch_size=batch_size,\n",
    "    shuffle=False,\n",
    "    pin_memory=False,\n",
    ")\n",
    "\n",
    "# モデル\n",
    "model = CriticNet()\n",
    "\n",
    "# TrainingConfig（ベストパラメータを適用）\n",
    "config = TrainingConfig(\n",
    "    lr=float(best_params.get(\"lr\")),\n",
    "    weight_decay=float(best_params.get(\"weight_decay\")),\n",
    "    num_epochs=int(best_params.get(\"num_epochs\")),\n",
    "    batch_size=batch_size,\n",
    ")\n",
    "print(config)\n",
    "\n",
    "# 最終学習\n",
    "trainer = Trainer(\n",
    "    trial=optuna.trial.FixedTrial(best_params),  # ログ用にダミーTrialでも可\n",
    "    config=config,\n",
    "    model=model,\n",
    "    train_loader=train_loader,\n",
    "    val_loader=val_loader,\n",
    ")\n",
    "final_best_val_loss, final_best_weights = trainer.train()\n",
    "print(\"Final best val loss:\", final_best_val_loss)"
   ]
  },
  {
   "cell_type": "code",
   "execution_count": null,
   "id": "8a000b74",
   "metadata": {},
   "outputs": [],
   "source": [
    "# 保存ディレクトリ作成\n",
    "models_dir = \"models\"\n",
    "os.makedirs(models_dir, exist_ok=True)\n",
    "\n",
    "# ファイル名（タイムスタンプ付き）\n",
    "import time\n",
    "import json\n",
    "\n",
    "ts = time.time()\n",
    "weight_path = os.path.join(models_dir, f\"criticnet_{ts}.pt\")\n",
    "meta_path = os.path.join(models_dir, f\"criticnet_{ts}.json\")\n",
    "\n",
    "# 重み保存（state_dict）\n",
    "torch.save(final_best_weights, weight_path)\n",
    "print(f\"Saved weights to: {weight_path}\")\n",
    "\n",
    "# メタ情報保存（ハイパラ・成績・データ形状など）\n",
    "metadata = {\n",
    "    \"study_name\": str(study_name),\n",
    "    \"db_path\": str(db_path),\n",
    "    \"best_val_loss\": float(final_best_val_loss),\n",
    "    \"best_params\": str(best_params),\n",
    "    \"config\": {\n",
    "        \"lr\": config.lr,\n",
    "        \"weight_decay\": config.weight_decay,\n",
    "        \"num_epochs\": config.num_epochs,\n",
    "        \"batch_size\": config.batch_size,\n",
    "        \"device\": str(config.device),\n",
    "        \"warmup_epochs\": config.warmup_epochs,\n",
    "        \"min_lr\": config.min_lr,\n",
    "        \"stop_patience\": config.stop_patience,\n",
    "        \"seed\": config.seed,\n",
    "    },\n",
    "    \"model_class\": \"CriticNet\",\n",
    "    \"timestamp\": ts,\n",
    "}\n",
    "with open(meta_path, \"w\") as f:\n",
    "    json.dump(metadata, f, indent=2, ensure_ascii=False)\n",
    "print(f\"Saved metadata to: {meta_path}\")"
   ]
  }
 ],
 "metadata": {
  "kernelspec": {
   "display_name": ".venv",
   "language": "python",
   "name": "python3"
  },
  "language_info": {
   "codemirror_mode": {
    "name": "ipython",
    "version": 3
   },
   "file_extension": ".py",
   "mimetype": "text/x-python",
   "name": "python",
   "nbconvert_exporter": "python",
   "pygments_lexer": "ipython3",
   "version": "3.12.10"
  }
 },
 "nbformat": 4,
 "nbformat_minor": 5
}
