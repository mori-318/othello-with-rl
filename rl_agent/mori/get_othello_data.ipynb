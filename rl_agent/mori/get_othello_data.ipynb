{
 "cells": [
  {
   "cell_type": "markdown",
   "id": "acc0cbb6",
   "metadata": {},
   "source": [
    "[https://www.egaroucid.nyanyan.dev/ja/technology/train-data/](https://www.egaroucid.nyanyan.dev/ja/technology/train-data/) のデータを使用\n",
    "\n",
    "- rl_agentディレクトリに上記からダウンロードしたデータを展開する\n",
    "- その後、以下を実行"
   ]
  },
  {
   "cell_type": "code",
   "execution_count": 1,
   "id": "8b16a4e9",
   "metadata": {},
   "outputs": [],
   "source": [
    "import os\n",
    "import sys\n",
    "from pathlib import Path\n",
    "from glob import glob\n",
    "from tqdm import tqdm\n",
    "\n",
    "import numpy as np\n",
    "\n",
    "project_root = Path.cwd().parent\n",
    "sys.path.append(str(project_root))\n"
   ]
  },
  {
   "cell_type": "code",
   "execution_count": 2,
   "id": "3cb86ddc",
   "metadata": {},
   "outputs": [],
   "source": [
    "raw_data_dir = os.path.join(project_root, \"Egaroucid_Train_Data/0001_egaroucid_7_5_1_lv17\")\n",
    "\n",
    "if not os.path.exists(raw_data_dir):\n",
    "    print(f\"Directory {raw_data_dir} does not exist.\")\n",
    "\n",
    "save_dir = os.path.join(project_root, \"data/egaroucid\")\n",
    "os.makedirs(save_dir, exist_ok=True)"
   ]
  },
  {
   "cell_type": "code",
   "execution_count": 3,
   "id": "2feb77c7",
   "metadata": {},
   "outputs": [],
   "source": [
    "def parse_board(board_str: str) -> np.ndarray:\n",
    "    mapping = {\"X\": 1, \"O\": -1, \"-\": 0}\n",
    "    flat = np.array([mapping[c] for c in board_str])\n",
    "    return flat.reshape(8, 8)"
   ]
  },
  {
   "cell_type": "code",
   "execution_count": 4,
   "id": "68585476",
   "metadata": {},
   "outputs": [],
   "source": [
    "def process_txt(txt_path):\n",
    "    boards = []\n",
    "    scores = []\n",
    "\n",
    "    with open(txt_path, \"r\") as f:\n",
    "        for line in f:\n",
    "            board_str, score_str = line.strip().split()\n",
    "            board = parse_board(board_str)\n",
    "            boards.append(board)\n",
    "            scores.append(int(score_str))\n",
    "\n",
    "    boards = np.stack(boards)\n",
    "    scores = np.stack(scores)\n",
    "\n",
    "    return boards, scores\n"
   ]
  },
  {
   "cell_type": "code",
   "execution_count": 5,
   "id": "4b0ca271",
   "metadata": {},
   "outputs": [],
   "source": [
    "def txt_to_npy(dir_path: str, save_dir: str):\n",
    "    txt_files = glob(dir_path + \"/*.txt\")\n",
    "\n",
    "    board_parent = []\n",
    "    score_parent = []\n",
    "    for txt_file in tqdm(txt_files):\n",
    "        boards, scores = process_txt(txt_file)\n",
    "        board_parent.append(boards)\n",
    "        score_parent.append(scores)\n",
    "\n",
    "    boards = np.concatenate(board_parent, axis=0)\n",
    "    scores = np.concatenate(score_parent, axis=0)\n",
    "\n",
    "    # ランダムに1万件のみ\n",
    "    idx = np.random.choice(len(boards), 10000, replace=False)\n",
    "    boards = boards[idx]\n",
    "    scores = scores[idx]\n",
    "\n",
    "    np.save(os.path.join(save_dir, \"boards.npy\"), boards)\n",
    "    np.save(os.path.join(save_dir, \"scores.npy\"), scores)"
   ]
  },
  {
   "cell_type": "code",
   "execution_count": 6,
   "id": "6a50a942",
   "metadata": {},
   "outputs": [
    {
     "name": "stderr",
     "output_type": "stream",
     "text": [
      "100%|██████████| 26/26 [02:44<00:00,  6.34s/it]\n"
     ]
    }
   ],
   "source": [
    "txt_to_npy(raw_data_dir, save_dir)"
   ]
  }
 ],
 "metadata": {
  "kernelspec": {
   "display_name": ".venv",
   "language": "python",
   "name": "python3"
  },
  "language_info": {
   "codemirror_mode": {
    "name": "ipython",
    "version": 3
   },
   "file_extension": ".py",
   "mimetype": "text/x-python",
   "name": "python",
   "nbconvert_exporter": "python",
   "pygments_lexer": "ipython3",
   "version": "3.12.10"
  }
 },
 "nbformat": 4,
 "nbformat_minor": 5
}
