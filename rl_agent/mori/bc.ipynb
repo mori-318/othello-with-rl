{
 "cells": [
  {
   "cell_type": "markdown",
   "id": "4843f62f",
   "metadata": {},
   "source": [
    "[https://www.egaroucid.nyanyan.dev/ja/technology/train-data/](https://www.egaroucid.nyanyan.dev/ja/technology/train-data/) のデータを使用\n",
    "\n",
    "- rl_agentディレクトリに上記からダウンロードしたデータを展開する\n",
    "- その後、以下を実行"
   ]
  },
  {
   "cell_type": "code",
   "execution_count": 1,
   "id": "7c4ef965",
   "metadata": {},
   "outputs": [],
   "source": [
    "import os\n",
    "import sys\n",
    "from pathlib import Path\n",
    "\n",
    "project_root = Path.cwd().parent\n",
    "sys.path.append(str(project_root))\n"
   ]
  },
  {
   "cell_type": "code",
   "execution_count": null,
   "id": "b382ccc1",
   "metadata": {},
   "outputs": [],
   "source": []
  },
  {
   "cell_type": "markdown",
   "id": "424fef75",
   "metadata": {},
   "source": []
  }
 ],
 "metadata": {
  "kernelspec": {
   "display_name": ".venv",
   "language": "python",
   "name": "python3"
  },
  "language_info": {
   "codemirror_mode": {
    "name": "ipython",
    "version": 3
   },
   "file_extension": ".py",
   "mimetype": "text/x-python",
   "name": "python",
   "nbconvert_exporter": "python",
   "pygments_lexer": "ipython3",
   "version": "3.12.10"
  }
 },
 "nbformat": 4,
 "nbformat_minor": 5
}
